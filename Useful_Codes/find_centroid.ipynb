{
 "cells": [
  {
   "cell_type": "markdown",
   "metadata": {
    "deletable": true,
    "editable": true,
    "toc": "true"
   },
   "source": [
    "# Table of Contents\n",
    " <p>"
   ]
  },
  {
   "cell_type": "code",
   "execution_count": 2,
   "metadata": {
    "collapsed": false,
    "deletable": true,
    "editable": true
   },
   "outputs": [
    {
     "name": "stdout",
     "output_type": "stream",
     "text": [
      "\n",
      "\n",
      "Begin time:  Thu May 23 10:59:20 2019\n",
      "End   time:  Thu May 23 10:59:20 2019 \n",
      "\n",
      "Time taken:  0 days,  0 hours,                0 minutes,  0.000011 seconds.\n",
      "\n",
      "\n"
     ]
    }
   ],
   "source": [
    "#!python\n",
    "\"\"\"\n",
    "Find the brightest pixel coordinate of a image.\n",
    "\n",
    "@author: Bhishan Poudel\n",
    "\n",
    "@date:  Oct 27, 2017\n",
    "\n",
    "@email: bhishanpdl@gmail.com\n",
    "\n",
    "\"\"\"\n",
    "# Imports\n",
    "import time\n",
    "import numpy as np\n",
    "from astropy.io import fits\n",
    "import subprocess\n",
    "from scipy.ndimage import measurements\n",
    "\n",
    "\n",
    "\n",
    "def brightest_coord():\n",
    "    with open('centroids_f8.txt','w') as fo:\n",
    "        for i in range(201):\n",
    "            pre = '/Users/poudel/Research/a01_data/original_data/HST_ACS_WFC_f814w/'\n",
    "            infile = '{}/sect23_f814w_gal{}.fits'.format(pre,i)\n",
    "            dat = fits.getdata(infile)\n",
    "            x,y = np.unravel_index(np.argmax(dat), dat.shape)\n",
    "            x,y = int(y+1) , int(x+1)\n",
    "            print(\"{} {}\".format(x, y), file=fo)\n",
    "            \n",
    "def find_centroid():\n",
    "    with open('centroids_f8_scipy.txt','w') as fo:\n",
    "        for i in range(201):\n",
    "            pre = '/Users/poudel/Research/a01_data/original_data/HST_ACS_WFC_f814w/'\n",
    "            infile = '{}/sect23_f814w_gal{}.fits'.format(pre,i)\n",
    "            dat = fits.getdata(infile)\n",
    "            x,y = measurements.center_of_mass(dat)\n",
    "            x,y = int(y+1) , int(x+1)\n",
    "            print(\"{} {}\".format(x, y), file=fo)\n",
    "\n",
    "    \n",
    "\n",
    "def main():\n",
    "    \"\"\"Run main function.\"\"\"\n",
    "    \n",
    "#     bright_coord()\n",
    "#     find_centroid()\n",
    "    \n",
    "    # # checking\n",
    "    # i = 0\n",
    "    # pre = '/Users/poudel/Research/a01_data/original_data/HST_ACS_WFC_f814w/'\n",
    "    # infile = '{}/sect23_f814w_gal{}.fits'.format(pre,i)\n",
    "    # ds9 = '/Applications/ds9.app/Contents/MacOS/ds9'\n",
    "    # subprocess.call('{} {}'.format(ds9, infile), shell=True)\n",
    "    # when zooming we can see brightest pixel is at 296, 307 image coord.\n",
    "    \n",
    "            \n",
    "if __name__ == \"__main__\":\n",
    "        import time, os\n",
    "        \n",
    "        # Beginning time\n",
    "        program_begin_time = time.time()\n",
    "        begin_ctime        = time.ctime()\n",
    "                    \n",
    "        #  Run the main program\n",
    "        main()\n",
    "        \n",
    "        # Print the time taken\n",
    "        program_end_time = time.time()\n",
    "        end_ctime        = time.ctime()\n",
    "        seconds          = program_end_time - program_begin_time\n",
    "        m, s             = divmod(seconds, 60)\n",
    "        h, m             = divmod(m, 60)\n",
    "        d, h             = divmod(h, 24)\n",
    "        print(\"\\n\\nBegin time: \", begin_ctime)\n",
    "        print(\"End   time: \", end_ctime, \"\\n\")\n",
    "        print(\"Time taken: {0: .0f} days, {1: .0f} hours, \\\n",
    "              {2: .0f} minutes, {3: f} seconds.\".format(d, h, m, s))\n",
    "        print(\"\\n\")\n",
    "        \n"
   ]
  },
  {
   "cell_type": "code",
   "execution_count": 3,
   "metadata": {
    "collapsed": false,
    "deletable": true,
    "editable": true
   },
   "outputs": [
    {
     "name": "stdout",
     "output_type": "stream",
     "text": [
      "296 307\r\n",
      "313 306\r\n",
      "302 312\r\n",
      "310 304\r\n",
      "303 302\r\n"
     ]
    }
   ],
   "source": [
    "!head -n 5 centroids_f8.txt"
   ]
  },
  {
   "cell_type": "code",
   "execution_count": 4,
   "metadata": {
    "collapsed": false,
    "deletable": true,
    "editable": true
   },
   "outputs": [
    {
     "name": "stdout",
     "output_type": "stream",
     "text": [
      "295 306\r\n",
      "312 306\r\n",
      "301 311\r\n",
      "309 303\r\n",
      "304 302\r\n"
     ]
    }
   ],
   "source": [
    "!head -n 5 centroids_f8_scipy.txt"
   ]
  },
  {
   "cell_type": "code",
   "execution_count": 5,
   "metadata": {
    "collapsed": true,
    "deletable": true,
    "editable": true
   },
   "outputs": [],
   "source": [
    "def find_max_coord(dat):\n",
    "    print(\"dat = \\n{}\".format(dat))\n",
    "    maxpos = np.unravel_index(np.argmax(dat), dat.shape)\n",
    "    print(\"maxpos = {}\".format(maxpos))"
   ]
  },
  {
   "cell_type": "code",
   "execution_count": 6,
   "metadata": {
    "collapsed": false,
    "deletable": true,
    "editable": true
   },
   "outputs": [
    {
     "name": "stdout",
     "output_type": "stream",
     "text": [
      "dat = \n",
      "[[ 0.1  0.5]\n",
      " [ 0.   0. ]\n",
      " [ 4.   3. ]\n",
      " [ 0.   0. ]\n",
      " [ 1.   1. ]]\n",
      "maxpos = (2, 0)\n"
     ]
    }
   ],
   "source": [
    "with open('example_data.txt','w') as fo:\n",
    "    data = \"\"\"0.1 0.5\n",
    "    0.0 0.0\n",
    "    4.0 3.0\n",
    "    0.0 0.0\n",
    "    1.0 1.0\n",
    "    \"\"\"\n",
    "    fo.write(data)\n",
    "\n",
    "dat = np.genfromtxt('example_data.txt')\n",
    "find_max_coord(dat)"
   ]
  },
  {
   "cell_type": "code",
   "execution_count": 7,
   "metadata": {
    "collapsed": false,
    "deletable": true,
    "editable": true
   },
   "outputs": [],
   "source": [
    "x,y = measurements.center_of_mass(dat)"
   ]
  },
  {
   "cell_type": "code",
   "execution_count": 8,
   "metadata": {
    "collapsed": false,
    "deletable": true,
    "editable": true
   },
   "outputs": [],
   "source": [
    "import matplotlib.pyplot as plt\n",
    "%matplotlib inline"
   ]
  },
  {
   "cell_type": "code",
   "execution_count": 14,
   "metadata": {
    "collapsed": false,
    "deletable": true,
    "editable": true
   },
   "outputs": [
    {
     "data": {
      "text/plain": [
       "<matplotlib.image.AxesImage at 0x114265e10>"
      ]
     },
     "execution_count": 14,
     "metadata": {},
     "output_type": "execute_result"
    },
    {
     "data": {
      "image/png": "[encoded data removed]",
      "text/plain": [
       "<matplotlib.figure.Figure at 0x11402c128>"
      ]
     },
     "metadata": {},
     "output_type": "display_data"
    }
   ],
   "source": [
    "plt.imshow(dat) # default is RGB"
   ]
  },
  {
   "cell_type": "code",
   "execution_count": 21,
   "metadata": {
    "collapsed": false,
    "deletable": true,
    "editable": true
   },
   "outputs": [
    {
     "data": {
      "text/plain": [
       "<matplotlib.image.AxesImage at 0x1145864a8>"
      ]
     },
     "execution_count": 21,
     "metadata": {},
     "output_type": "execute_result"
    },
    {
     "data": {
      "image/png": "[encoded data removed]",
      "text/plain": [
       "<matplotlib.figure.Figure at 0x11403fdd8>"
      ]
     },
     "metadata": {},
     "output_type": "display_data"
    }
   ],
   "source": [
    "plt.imshow(dat,cmap='gray', vmin=int(dat.min()), vmax=int(dat.max()))"
   ]
  },
  {
   "cell_type": "code",
   "execution_count": 22,
   "metadata": {
    "collapsed": false,
    "deletable": true,
    "editable": true
   },
   "outputs": [],
   "source": [
    "# we can see brightest pixel is x=0 and y = 2\n",
    "# or, if we count from 1,  x = 1 and y =3"
   ]
  },
  {
   "cell_type": "code",
   "execution_count": 31,
   "metadata": {
    "collapsed": false,
    "deletable": true,
    "editable": true
   },
   "outputs": [
    {
     "data": {
      "text/plain": [
       "(2.291666666666667, 0.46875)"
      ]
     },
     "execution_count": 31,
     "metadata": {},
     "output_type": "execute_result"
    }
   ],
   "source": [
    "measurements.center_of_mass(dat)"
   ]
  },
  {
   "cell_type": "code",
   "execution_count": 33,
   "metadata": {
    "collapsed": false,
    "deletable": true,
    "editable": true
   },
   "outputs": [
    {
     "data": {
      "text/plain": [
       "(2, 0)"
      ]
     },
     "execution_count": 33,
     "metadata": {},
     "output_type": "execute_result"
    }
   ],
   "source": [
    "x,y = measurements.center_of_mass(dat)\n",
    "x,y = int(x), int(y)\n",
    "x,y"
   ]
  },
  {
   "cell_type": "code",
   "execution_count": 35,
   "metadata": {
    "collapsed": false,
    "deletable": true,
    "editable": true
   },
   "outputs": [
    {
     "data": {
      "text/plain": [
       "array([[ 0.1,  0.5],\n",
       "       [ 0. ,  0. ],\n",
       "       [ 4. ,  3. ],\n",
       "       [ 0. ,  0. ],\n",
       "       [ 1. ,  1. ]])"
      ]
     },
     "execution_count": 35,
     "metadata": {},
     "output_type": "execute_result"
    }
   ],
   "source": [
    "dat"
   ]
  },
  {
   "cell_type": "code",
   "execution_count": 37,
   "metadata": {
    "collapsed": false,
    "deletable": true,
    "editable": true
   },
   "outputs": [
    {
     "data": {
      "text/plain": [
       "4.0"
      ]
     },
     "execution_count": 37,
     "metadata": {},
     "output_type": "execute_result"
    }
   ],
   "source": [
    "dat[2][0]"
   ]
  },
  {
   "cell_type": "code",
   "execution_count": 38,
   "metadata": {
    "collapsed": true,
    "deletable": true,
    "editable": true
   },
   "outputs": [],
   "source": [
    "# Numpy index is dat[2][0]\n",
    "# but image shows x=0 and y =2."
   ]
  },
  {
   "cell_type": "code",
   "execution_count": 25,
   "metadata": {
    "collapsed": false,
    "deletable": true,
    "editable": true
   },
   "outputs": [
    {
     "data": {
      "text/plain": [
       "(0, 2)"
      ]
     },
     "execution_count": 25,
     "metadata": {},
     "output_type": "execute_result"
    }
   ],
   "source": [
    "x,y = measurements.center_of_mass(dat)\n",
    "x,y = int(y), int(x)\n",
    "\n",
    "x,y"
   ]
  },
  {
   "cell_type": "code",
   "execution_count": 30,
   "metadata": {
    "collapsed": false,
    "deletable": true,
    "editable": true
   },
   "outputs": [
    {
     "data": {
      "text/plain": [
       "4.0"
      ]
     },
     "execution_count": 30,
     "metadata": {},
     "output_type": "execute_result"
    }
   ],
   "source": [
    "dat[2][0]"
   ]
  },
  {
   "cell_type": "code",
   "execution_count": 39,
   "metadata": {
    "collapsed": true,
    "deletable": true,
    "editable": true
   },
   "outputs": [],
   "source": [
    "# Looking at mean"
   ]
  },
  {
   "cell_type": "code",
   "execution_count": 41,
   "metadata": {
    "collapsed": false,
    "deletable": true,
    "editable": true
   },
   "outputs": [
    {
     "data": {
      "text/plain": [
       "array([ 1.02,  0.9 ])"
      ]
     },
     "execution_count": 41,
     "metadata": {},
     "output_type": "execute_result"
    }
   ],
   "source": [
    "dat.mean(axis=0)"
   ]
  },
  {
   "cell_type": "code",
   "execution_count": 44,
   "metadata": {
    "collapsed": false,
    "deletable": true,
    "editable": true
   },
   "outputs": [
    {
     "data": {
      "text/plain": [
       "4"
      ]
     },
     "execution_count": 44,
     "metadata": {},
     "output_type": "execute_result"
    }
   ],
   "source": [
    "np.argmax(dat)"
   ]
  },
  {
   "cell_type": "code",
   "execution_count": 46,
   "metadata": {
    "collapsed": false,
    "deletable": true,
    "editable": true
   },
   "outputs": [
    {
     "data": {
      "text/plain": [
       "(2, 0)"
      ]
     },
     "execution_count": 46,
     "metadata": {},
     "output_type": "execute_result"
    }
   ],
   "source": [
    "np.unravel_index(4,dat.shape)"
   ]
  },
  {
   "cell_type": "code",
   "execution_count": null,
   "metadata": {
    "collapsed": true,
    "deletable": true,
    "editable": true
   },
   "outputs": [],
   "source": []
  }
 ],
 "metadata": {
  "kernelspec": {
   "display_name": "Python 3",
   "language": "python",
   "name": "python3"
  },
  "language_info": {
   "codemirror_mode": {
    "name": "ipython",
    "version": 3
   },
   "file_extension": ".py",
   "mimetype": "text/x-python",
   "name": "python",
   "nbconvert_exporter": "python",
   "pygments_lexer": "ipython3",
   "version": "3.5.2"
  },
  "toc": {
   "colors": {
    "hover_highlight": "#DAA520",
    "navigate_num": "#000000",
    "navigate_text": "#333333",
    "running_highlight": "#FF0000",
    "selected_highlight": "#FFD700",
    "sidebar_border": "#EEEEEE",
    "wrapper_background": "#FFFFFF"
   },
   "moveMenuLeft": true,
   "nav_menu": {
    "height": "12px",
    "width": "252px"
   },
   "navigate_menu": true,
   "number_sections": true,
   "sideBar": true,
   "threshold": 4,
   "toc_cell": true,
   "toc_section_display": "block",
   "toc_window_display": true,
   "widenNotebook": false
  }
 },
 "nbformat": 4,
 "nbformat_minor": 2
}
