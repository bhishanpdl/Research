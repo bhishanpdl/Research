{
 "cells": [
  {
   "cell_type": "markdown",
   "id": "dc43a42c",
   "metadata": {
    "toc": true
   },
   "source": [
    "<h1>Table of Contents<span class=\"tocSkip\"></span></h1>\n",
    "<div class=\"toc\"><ul class=\"toc-item\"></ul></div>"
   ]
  },
  {
   "cell_type": "code",
   "execution_count": 1,
   "id": "b4e88a9e",
   "metadata": {
    "ExecuteTime": {
     "end_time": "2021-10-28T17:42:26.938727Z",
     "start_time": "2021-10-28T17:42:24.468591Z"
    }
   },
   "outputs": [
    {
     "name": "stdout",
     "output_type": "stream",
     "text": [
      "seaborn 0.11.0\n",
      "numpy   1.19.5\n",
      "pandas  1.3.0\n",
      "\n"
     ]
    }
   ],
   "source": [
    "import numpy as np\n",
    "import pandas as pd\n",
    "import os,sys,time\n",
    "\n",
    "# visualization\n",
    "import matplotlib.pyplot as plt\n",
    "import seaborn as sns\n",
    "sns.set()\n",
    "\n",
    "# settings\n",
    "SEED = 100\n",
    "pd.set_option('max_columns',100)\n",
    "\n",
    "%matplotlib inline\n",
    "%load_ext watermark\n",
    "%watermark -iv"
   ]
  },
  {
   "cell_type": "code",
   "execution_count": 3,
   "id": "8766f46b",
   "metadata": {
    "ExecuteTime": {
     "end_time": "2021-10-28T17:42:45.822456Z",
     "start_time": "2021-10-28T17:42:45.687216Z"
    }
   },
   "outputs": [
    {
     "name": "stdout",
     "output_type": "stream",
     "text": [
      "fB_fD_all_fitsfiles.txt fB_fD_mean.txt\r\n"
     ]
    }
   ],
   "source": [
    "!ls data"
   ]
  },
  {
   "cell_type": "code",
   "execution_count": 8,
   "id": "d695154a",
   "metadata": {
    "ExecuteTime": {
     "end_time": "2021-10-28T17:44:27.015979Z",
     "start_time": "2021-10-28T17:44:26.865223Z"
    }
   },
   "outputs": [
    {
     "name": "stdout",
     "output_type": "stream",
     "text": [
      "0.0000 0.6934 0.3066\r\n",
      "1.0000 0.3816 0.6184\r\n",
      "2.0000 0.5321 0.4679\r\n",
      "3.0000 0.5884 0.4116\r\n",
      "4.0000 0.0249 0.9751\r\n",
      "5.0000 0.4053 0.5947\r\n",
      "6.0000 0.7830 0.2170\r\n",
      "7.0000 0.4672 0.5328\r\n",
      "8.0000 0.7573 0.2427\r\n",
      "9.0000 0.4043 0.5957\r\n"
     ]
    }
   ],
   "source": [
    "!head data/fB_fD_all_fitsfiles.txt"
   ]
  },
  {
   "cell_type": "code",
   "execution_count": 14,
   "id": "7ff7c647",
   "metadata": {
    "ExecuteTime": {
     "end_time": "2021-10-28T17:45:59.272410Z",
     "start_time": "2021-10-28T17:45:59.230534Z"
    }
   },
   "outputs": [
    {
     "name": "stdout",
     "output_type": "stream",
     "text": [
      "(201, 2)\n"
     ]
    },
    {
     "data": {
      "text/html": [
       "<div>\n",
       "<style scoped>\n",
       "    .dataframe tbody tr th:only-of-type {\n",
       "        vertical-align: middle;\n",
       "    }\n",
       "\n",
       "    .dataframe tbody tr th {\n",
       "        vertical-align: top;\n",
       "    }\n",
       "\n",
       "    .dataframe thead th {\n",
       "        text-align: right;\n",
       "    }\n",
       "</style>\n",
       "<table border=\"1\" class=\"dataframe\">\n",
       "  <thead>\n",
       "    <tr style=\"text-align: right;\">\n",
       "      <th></th>\n",
       "      <th>bulge</th>\n",
       "      <th>disk</th>\n",
       "    </tr>\n",
       "    <tr>\n",
       "      <th>index</th>\n",
       "      <th></th>\n",
       "      <th></th>\n",
       "    </tr>\n",
       "  </thead>\n",
       "  <tbody>\n",
       "    <tr>\n",
       "      <th>0.0</th>\n",
       "      <td>0.6934</td>\n",
       "      <td>0.3066</td>\n",
       "    </tr>\n",
       "    <tr>\n",
       "      <th>1.0</th>\n",
       "      <td>0.3816</td>\n",
       "      <td>0.6184</td>\n",
       "    </tr>\n",
       "    <tr>\n",
       "      <th>199.0</th>\n",
       "      <td>0.9298</td>\n",
       "      <td>0.0702</td>\n",
       "    </tr>\n",
       "    <tr>\n",
       "      <th>200.0</th>\n",
       "      <td>0.6214</td>\n",
       "      <td>0.3786</td>\n",
       "    </tr>\n",
       "  </tbody>\n",
       "</table>\n",
       "</div>"
      ],
      "text/plain": [
       "        bulge    disk\n",
       "index                \n",
       "0.0    0.6934  0.3066\n",
       "1.0    0.3816  0.6184\n",
       "199.0  0.9298  0.0702\n",
       "200.0  0.6214  0.3786"
      ]
     },
     "execution_count": 14,
     "metadata": {},
     "output_type": "execute_result"
    }
   ],
   "source": [
    "df = pd.read_csv(\"data/fB_fD_all_fitsfiles.txt\",header=None,sep=' ',index_col=0)\n",
    "df.columns = ['bulge','disk']\n",
    "df.index.name = 'index'\n",
    "print(df.shape)\n",
    "\n",
    "df.head(2).append(df.tail(2))"
   ]
  },
  {
   "cell_type": "code",
   "execution_count": 15,
   "id": "154104dc",
   "metadata": {
    "ExecuteTime": {
     "end_time": "2021-10-28T17:46:16.384309Z",
     "start_time": "2021-10-28T17:46:16.371104Z"
    }
   },
   "outputs": [
    {
     "data": {
      "text/plain": [
       "count    201.000000\n",
       "mean       0.331207\n",
       "std        0.284192\n",
       "min        0.000000\n",
       "25%        0.055900\n",
       "50%        0.280400\n",
       "75%        0.549900\n",
       "max        0.929800\n",
       "Name: bulge, dtype: float64"
      ]
     },
     "execution_count": 15,
     "metadata": {},
     "output_type": "execute_result"
    }
   ],
   "source": [
    "df['bulge'].describe()"
   ]
  },
  {
   "cell_type": "code",
   "execution_count": 16,
   "id": "fd3ce6af",
   "metadata": {
    "ExecuteTime": {
     "end_time": "2021-10-28T17:46:26.219464Z",
     "start_time": "2021-10-28T17:46:26.207752Z"
    }
   },
   "outputs": [
    {
     "data": {
      "text/plain": [
       "count    201.000000\n",
       "mean       0.668793\n",
       "std        0.284192\n",
       "min        0.070200\n",
       "25%        0.450100\n",
       "50%        0.719600\n",
       "75%        0.944100\n",
       "max        1.000000\n",
       "Name: disk, dtype: float64"
      ]
     },
     "execution_count": 16,
     "metadata": {},
     "output_type": "execute_result"
    }
   ],
   "source": [
    "df['disk'].describe()"
   ]
  },
  {
   "cell_type": "code",
   "execution_count": 44,
   "id": "f145400a",
   "metadata": {
    "ExecuteTime": {
     "end_time": "2021-10-28T18:03:41.023201Z",
     "start_time": "2021-10-28T18:03:40.602300Z"
    }
   },
   "outputs": [
    {
     "data": {
      "text/plain": [
       "(0.0, 60.0)"
      ]
     },
     "execution_count": 44,
     "metadata": {},
     "output_type": "execute_result"
    },
    {
     "data": {
      "image/png": "[encoded data removed]",
      "text/plain": [
       "<Figure size 432x288 with 1 Axes>"
      ]
     },
     "metadata": {
      "needs_background": "light"
     },
     "output_type": "display_data"
    }
   ],
   "source": [
    "df.bulge.hist(bins=100)\n",
    "plt.ylim(0,60)"
   ]
  },
  {
   "cell_type": "code",
   "execution_count": 45,
   "id": "e5448778",
   "metadata": {
    "ExecuteTime": {
     "end_time": "2021-10-28T18:04:12.835690Z",
     "start_time": "2021-10-28T18:04:12.474892Z"
    }
   },
   "outputs": [
    {
     "data": {
      "text/plain": [
       "<matplotlib.axes._subplots.AxesSubplot at 0x7fe7e3de3690>"
      ]
     },
     "execution_count": 45,
     "metadata": {},
     "output_type": "execute_result"
    },
    {
     "data": {
      "image/png": "[encoded data removed]",
      "text/plain": [
       "<Figure size 432x288 with 1 Axes>"
      ]
     },
     "metadata": {
      "needs_background": "light"
     },
     "output_type": "display_data"
    }
   ],
   "source": [
    "df.disk.plot(kind='hist', bins=100,color='red', ylim=(0,60))"
   ]
  },
  {
   "cell_type": "code",
   "execution_count": 19,
   "id": "a42f435e",
   "metadata": {
    "ExecuteTime": {
     "end_time": "2021-10-28T17:47:25.123750Z",
     "start_time": "2021-10-28T17:47:24.778296Z"
    }
   },
   "outputs": [
    {
     "data": {
      "text/plain": [
       "(0.0, 5.0)"
      ]
     },
     "execution_count": 19,
     "metadata": {},
     "output_type": "execute_result"
    },
    {
     "data": {
      "image/png": "[encoded data removed]",
      "text/plain": [
       "<Figure size 432x288 with 1 Axes>"
      ]
     },
     "metadata": {
      "needs_background": "light"
     },
     "output_type": "display_data"
    }
   ],
   "source": [
    "df.bulge.hist(bins=100)\n",
    "plt.ylim(0,5)"
   ]
  },
  {
   "cell_type": "code",
   "execution_count": 31,
   "id": "83ca7921",
   "metadata": {
    "ExecuteTime": {
     "end_time": "2021-10-28T17:55:17.638273Z",
     "start_time": "2021-10-28T17:55:17.247944Z"
    }
   },
   "outputs": [
    {
     "data": {
      "text/plain": [
       "(0.0, 5.0)"
      ]
     },
     "execution_count": 31,
     "metadata": {},
     "output_type": "execute_result"
    },
    {
     "data": {
      "image/png": "[encoded data removed]",
      "text/plain": [
       "<Figure size 432x288 with 1 Axes>"
      ]
     },
     "metadata": {
      "needs_background": "light"
     },
     "output_type": "display_data"
    }
   ],
   "source": [
    "df.disk.hist(bins=100,color='red')\n",
    "plt.ylim(0,5)"
   ]
  },
  {
   "cell_type": "code",
   "execution_count": 21,
   "id": "bbf3affb",
   "metadata": {
    "ExecuteTime": {
     "end_time": "2021-10-28T17:50:29.934957Z",
     "start_time": "2021-10-28T17:50:29.640109Z"
    }
   },
   "outputs": [
    {
     "data": {
      "text/plain": [
       "<matplotlib.axes._subplots.AxesSubplot at 0x7fe7e49eca50>"
      ]
     },
     "execution_count": 21,
     "metadata": {},
     "output_type": "execute_result"
    },
    {
     "data": {
      "image/png": "[encoded data removed]",
      "text/plain": [
       "<Figure size 432x288 with 1 Axes>"
      ]
     },
     "metadata": {
      "needs_background": "light"
     },
     "output_type": "display_data"
    }
   ],
   "source": [
    "sns.ecdfplot(df['bulge'])"
   ]
  },
  {
   "cell_type": "code",
   "execution_count": 32,
   "id": "86bb68b2",
   "metadata": {
    "ExecuteTime": {
     "end_time": "2021-10-28T17:55:25.569294Z",
     "start_time": "2021-10-28T17:55:25.311719Z"
    }
   },
   "outputs": [
    {
     "data": {
      "text/plain": [
       "<matplotlib.axes._subplots.AxesSubplot at 0x7fe7e4427090>"
      ]
     },
     "execution_count": 32,
     "metadata": {},
     "output_type": "execute_result"
    },
    {
     "data": {
      "image/png": "[encoded data removed]",
      "text/plain": [
       "<Figure size 432x288 with 1 Axes>"
      ]
     },
     "metadata": {
      "needs_background": "light"
     },
     "output_type": "display_data"
    }
   ],
   "source": [
    "sns.ecdfplot(df['disk'],color='red')"
   ]
  },
  {
   "cell_type": "code",
   "execution_count": 27,
   "id": "00ce1cf5",
   "metadata": {
    "ExecuteTime": {
     "end_time": "2021-10-28T17:53:43.564155Z",
     "start_time": "2021-10-28T17:53:43.372932Z"
    }
   },
   "outputs": [
    {
     "data": {
      "image/png": "[encoded data removed]",
      "text/plain": [
       "<Figure size 432x288 with 1 Axes>"
      ]
     },
     "metadata": {
      "needs_background": "light"
     },
     "output_type": "display_data"
    }
   ],
   "source": [
    "df.bulge.round(1).value_counts().plot()\n",
    "plt.xticks([0]+[i/10 for i  in range(1,10)]);"
   ]
  },
  {
   "cell_type": "code",
   "execution_count": 29,
   "id": "e0f1906c",
   "metadata": {
    "ExecuteTime": {
     "end_time": "2021-10-28T17:54:43.829366Z",
     "start_time": "2021-10-28T17:54:43.629440Z"
    }
   },
   "outputs": [
    {
     "data": {
      "image/png": "[encoded data removed]",
      "text/plain": [
       "<Figure size 432x288 with 1 Axes>"
      ]
     },
     "metadata": {
      "needs_background": "light"
     },
     "output_type": "display_data"
    }
   ],
   "source": [
    "df.disk.round(1).value_counts().plot(color='red')\n",
    "plt.xticks([0]+[i/10 for i  in range(1,10)]);"
   ]
  },
  {
   "cell_type": "code",
   "execution_count": 41,
   "id": "013558d7",
   "metadata": {
    "ExecuteTime": {
     "end_time": "2021-10-28T17:58:47.129550Z",
     "start_time": "2021-10-28T17:58:46.669271Z"
    }
   },
   "outputs": [
    {
     "data": {
      "text/plain": [
       "array([<matplotlib.axes._subplots.AxesSubplot object at 0x7fe7c750c9d0>,\n",
       "       <matplotlib.axes._subplots.AxesSubplot object at 0x7fe7c77678d0>],\n",
       "      dtype=object)"
      ]
     },
     "execution_count": 41,
     "metadata": {},
     "output_type": "execute_result"
    },
    {
     "data": {
      "image/png": "[encoded data removed]",
      "text/plain": [
       "<Figure size 432x288 with 2 Axes>"
      ]
     },
     "metadata": {
      "needs_background": "light"
     },
     "output_type": "display_data"
    }
   ],
   "source": [
    "df.plot(subplots=True,kind='hist',xticks=np.linspace(0,1,11))"
   ]
  },
  {
   "cell_type": "code",
   "execution_count": 37,
   "id": "eadc429c",
   "metadata": {
    "ExecuteTime": {
     "end_time": "2021-10-28T17:57:51.427451Z",
     "start_time": "2021-10-28T17:57:51.358427Z"
    }
   },
   "outputs": [],
   "source": [
    "# df.plot?"
   ]
  },
  {
   "cell_type": "code",
   "execution_count": 40,
   "id": "4c24eb6b",
   "metadata": {
    "ExecuteTime": {
     "end_time": "2021-10-28T17:58:34.936263Z",
     "start_time": "2021-10-28T17:58:34.928970Z"
    }
   },
   "outputs": [
    {
     "data": {
      "text/plain": [
       "array([0. , 0.1, 0.2, 0.3, 0.4, 0.5, 0.6, 0.7, 0.8, 0.9, 1. ])"
      ]
     },
     "execution_count": 40,
     "metadata": {},
     "output_type": "execute_result"
    }
   ],
   "source": [
    "np.linspace(0,1,11)"
   ]
  },
  {
   "cell_type": "code",
   "execution_count": null,
   "id": "5fdfc26c",
   "metadata": {},
   "outputs": [],
   "source": []
  }
 ],
 "metadata": {
  "kernelspec": {
   "display_name": "Python (dataSc)",
   "language": "python",
   "name": "datasc"
  },
  "language_info": {
   "codemirror_mode": {
    "name": "ipython",
    "version": 3
   },
   "file_extension": ".py",
   "mimetype": "text/x-python",
   "name": "python",
   "nbconvert_exporter": "python",
   "pygments_lexer": "ipython3",
   "version": "3.7.7"
  },
  "toc": {
   "base_numbering": 1,
   "nav_menu": {},
   "number_sections": true,
   "sideBar": true,
   "skip_h1_title": false,
   "title_cell": "Table of Contents",
   "title_sidebar": "Contents",
   "toc_cell": true,
   "toc_position": {},
   "toc_section_display": true,
   "toc_window_display": false
  }
 },
 "nbformat": 4,
 "nbformat_minor": 5
}
